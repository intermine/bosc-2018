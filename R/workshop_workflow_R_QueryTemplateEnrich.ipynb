{
 "cells": [
  {
   "cell_type": "markdown",
   "metadata": {},
   "source": [
    "We will start by running a query you are now familiar with - \"find genes upregulated in Adipose tissue\". You have seen how to run this query in the user interface, how to run it using the Python API and now you will run it in R.  First you need to load up the InterMineR library:"
   ]
  },
  {
   "cell_type": "code",
   "execution_count": null,
   "metadata": {},
   "outputs": [],
   "source": [
    "library(InterMineR)"
   ]
  },
  {
   "cell_type": "markdown",
   "metadata": {},
   "source": [
    "and then the intermine database we wish to query, in this case HumanMine.  Note that you can use the listMines() function to list all InterMines available to use.  "
   ]
  },
  {
   "cell_type": "code",
   "execution_count": null,
   "metadata": {},
   "outputs": [],
   "source": [
    "im <- initInterMine(mine=listMines()[\"HumanMine\"], token=\"{your token}\")"
   ]
  },
  {
   "cell_type": "markdown",
   "metadata": {},
   "source": [
    "Create expressedAdipose query object"
   ]
  },
  {
   "cell_type": "code",
   "execution_count": null,
   "metadata": {},
   "outputs": [],
   "source": [
    "expressedAdipose = newQuery()"
   ]
  },
  {
   "cell_type": "markdown",
   "metadata": {},
   "source": [
    "Now set the constraints:"
   ]
  },
  {
   "cell_type": "code",
   "execution_count": null,
   "metadata": {},
   "outputs": [],
   "source": [
    "adiposeConstraint1 = setConstraints(\n",
    "  paths = c(\"AtlasExpression.condition\",\n",
    "            \"AtlasExpression.pValue\", \"AtlasExpression.expression\"),\n",
    "  operators = c(\"=\", \"<=\", \"=\"),\n",
    "  values = list(c(\"adipose tissue\"), \"0.01\", \"UP\")\n",
    ")\n"
   ]
  },
  {
   "cell_type": "markdown",
   "metadata": {},
   "source": [
    "and the select list:"
   ]
  },
  {
   "cell_type": "code",
   "execution_count": null,
   "metadata": {},
   "outputs": [],
   "source": [
    "expressedAdipose = setQuery(\n",
    "  select = c(\"AtlasExpression.gene.symbol\",\n",
    "             \"AtlasExpression.condition\", \n",
    "             \"AtlasExpression.expression\", \n",
    "             \"AtlasExpression.pValue\", \n",
    "             \"AtlasExpression.tStatistic\", \n",
    "             \"AtlasExpression.dataSets.name\"\n",
    "  ),\n",
    "  orderBy = list(c(AtlasExpression.gene.symbol = \"ASC\")),\n",
    "  where = adiposeConstraint1\n",
    ")\n"
   ]
  },
  {
   "cell_type": "markdown",
   "metadata": {},
   "source": [
    "Finally run the query and store the results in query_results."
   ]
  },
  {
   "cell_type": "code",
   "execution_count": null,
   "metadata": {},
   "outputs": [],
   "source": [
    "query_results <-  runQuery(im = im, qry = expressedAdipose)"
   ]
  },
  {
   "cell_type": "markdown",
   "metadata": {},
   "source": [
    "Take a look at the first few lines of the results to ensure they look correct:"
   ]
  },
  {
   "cell_type": "code",
   "execution_count": null,
   "metadata": {},
   "outputs": [],
   "source": [
    "head(query_results)"
   ]
  },
  {
   "cell_type": "markdown",
   "metadata": {},
   "source": [
    "We want to use the set of genes returned by this query in our second query, to find those that interact with the PPARG gene.  Our query_results object includes several columns of data but we can save just the gene symbols in a vector as follows:"
   ]
  },
  {
   "cell_type": "code",
   "execution_count": null,
   "metadata": {},
   "outputs": [],
   "source": [
    "genes <- query_results[,\"AtlasExpression.gene.symbol\"]"
   ]
  },
  {
   "cell_type": "markdown",
   "metadata": {},
   "source": [
    "Check genes look correct:"
   ]
  },
  {
   "cell_type": "code",
   "execution_count": null,
   "metadata": {},
   "outputs": [],
   "source": [
    "head(genes)"
   ]
  },
  {
   "cell_type": "markdown",
   "metadata": {},
   "source": [
    "The next query in a workflow took the set of genes from above and looked at which of these interact with PPARG. To construct this query we are going to look at modifying a pre-existing template.  Use the getTemplate Query function to load up the template called \"geneInteractiongene\".  This is the Gene A --> Interaction <-- Gene B template that was used in the user interface demo."
   ]
  },
  {
   "cell_type": "code",
   "execution_count": null,
   "metadata": {},
   "outputs": [],
   "source": [
    "q = getTemplateQuery(im, 'geneInteractiongene')"
   ]
  },
  {
   "cell_type": "markdown",
   "metadata": {},
   "source": [
    "We want to modify the constraints a little, first to set the \"interactors\" to our genes set saved above, but also to add organism constraints:"
   ]
  },
  {
   "cell_type": "code",
   "execution_count": null,
   "metadata": {},
   "outputs": [],
   "source": [
    "interactAdiposeConstraint = setConstraints(\n",
    "  paths = c(\"Gene\",\n",
    "            \"Gene.interactions.participant2.symbol\", \"Gene.interactions.participant2.organism.shortName\", \"Gene.organism.shortName\"),\n",
    "  operators = c(\"LOOKUP\", \"=\", \"=\", \"=\"),\n",
    "  values = list(c(\"PPARG\"), c(genes), c(\"H. sapiens\"), c(\"H. sapiens\"))\n",
    ") \n"
   ]
  },
  {
   "cell_type": "markdown",
   "metadata": {},
   "source": [
    "We can then set up the query to use the same select list from the template (q$select) and the constraits we set above:"
   ]
  },
  {
   "cell_type": "code",
   "execution_count": null,
   "metadata": {},
   "outputs": [],
   "source": [
    "interactAdiposeQuery = setQuery(\n",
    "  select = q$select,\n",
    "  where = interactAdiposeConstraint\n",
    ") \n"
   ]
  },
  {
   "cell_type": "markdown",
   "metadata": {},
   "source": [
    "Now run the query and save the results in query_results2"
   ]
  },
  {
   "cell_type": "code",
   "execution_count": null,
   "metadata": {},
   "outputs": [],
   "source": [
    "query_results2 <- runQuery(im = im, qry = interactAdiposeQuery)"
   ]
  },
  {
   "cell_type": "markdown",
   "metadata": {},
   "source": [
    "Again, check the results to ensure they look correct:"
   ]
  },
  {
   "cell_type": "code",
   "execution_count": null,
   "metadata": {},
   "outputs": [],
   "source": [
    "head(query_results2) "
   ]
  },
  {
   "cell_type": "markdown",
   "metadata": {},
   "source": [
    "This time we are interested in the set of genes that show an intercatin with PPARG.  We can grab the set of gene symbols from the results:"
   ]
  },
  {
   "cell_type": "code",
   "execution_count": null,
   "metadata": {},
   "outputs": [],
   "source": [
    "interactors <- unique(query_results2[, \"Gene.interactions.participant2.symbol\"])"
   ]
  },
  {
   "cell_type": "markdown",
   "metadata": {},
   "source": [
    "Now, instead of looking at associations with diabetes, we are instead going to explore this set of genes that are expressed in adipose tissue and that interact with pparg further, through gene ontology (GO) enrichment.  InterMine databases provide a number of enrichment widgets, for various types of annotations. depending on the individual intermine - for example, as well as gene ontology enrichment, the humanmine datasbe also provides enrichment statistics for protein domains, pathways, publications etc.  For this exercise we will look at GO enrichment.  First, take a look at the widgets that are provided with humanmine:"
   ]
  },
  {
   "cell_type": "code",
   "execution_count": null,
   "metadata": {},
   "outputs": [],
   "source": [
    "human.widgets = as.data.frame(getWidgets(im))\n",
    "\n",
    "subset(human.widgets, widgetType == 'enrichment' & targets == \"Gene\")"
   ]
  },
  {
   "cell_type": "markdown",
   "metadata": {},
   "source": [
    "To run the enrichment widget, use the doEnrichment function with the following arguments - note we are running it with the set of interactors we saved above."
   ]
  },
  {
   "cell_type": "code",
   "execution_count": null,
   "metadata": {},
   "outputs": [],
   "source": [
    "GO_enrichResult = doEnrichment(\n",
    "  im = im,\n",
    "  ids = interactors,\n",
    "  widget = \"go_enrichment_for_gene\"\n",
    ")\n"
   ]
  },
  {
   "cell_type": "markdown",
   "metadata": {},
   "source": [
    "Take a look at the stats returned:"
   ]
  },
  {
   "cell_type": "code",
   "execution_count": null,
   "metadata": {},
   "outputs": [],
   "source": [
    "head(GO_enrichResult$data)"
   ]
  },
  {
   "cell_type": "markdown",
   "metadata": {},
   "source": [
    "One advantage of using interMineR is that you can feed the results of intermine queries into other R packages for further analysis and visualisation.  As a simple example we will take the results of our enrichment above and feed them into a package called GeneAnswers, which allows us to visualise the results.  To make this easier interMineR includes a function \"convertToGeneAnswers\". First though, we must load up the GeneAnswers package:"
   ]
  },
  {
   "cell_type": "code",
   "execution_count": null,
   "metadata": {},
   "outputs": [],
   "source": [
    "library(GeneAnswers)"
   ]
  },
  {
   "cell_type": "markdown",
   "metadata": {},
   "source": [
    "Now create a GeneAnswers object using the function as follows:"
   ]
  },
  {
   "cell_type": "code",
   "execution_count": null,
   "metadata": {},
   "outputs": [],
   "source": [
    "geneanswer_object = convertToGeneAnswers(\n",
    "  enrichmentResult = GO_enrichResult, \n",
    "  geneInput = data.frame(GeneID = as.character(interactors), \n",
    "                             stringsAsFactors = FALSE),\n",
    "  geneInputType = \"Gene.symbol\",\n",
    "  annLib = 'org.Hs.eg.db',\n",
    "  categoryType = \"GO.MF\"\n",
    ")\n"
   ]
  },
  {
   "cell_type": "markdown",
   "metadata": {},
   "source": [
    "and take a look at this:"
   ]
  },
  {
   "cell_type": "code",
   "execution_count": null,
   "metadata": {},
   "outputs": [],
   "source": [
    "summary(geneanswer_object)"
   ]
  },
  {
   "cell_type": "markdown",
   "metadata": {},
   "source": [
    "The GeneAnswers package come with many functions, but below are three examples of simple plots you can create to visualise your enrichemnt results:"
   ]
  },
  {
   "cell_type": "code",
   "execution_count": null,
   "metadata": {},
   "outputs": [],
   "source": [
    "geneAnswersChartPlots(geneanswer_object, \n",
    "                      chartType='pieChart',\n",
    "                      sortBy = 'geneNum',\n",
    "                      top = 5)"
   ]
  },
  {
   "cell_type": "code",
   "execution_count": null,
   "metadata": {},
   "outputs": [],
   "source": [
    "geneAnswersChartPlots(geneanswer_object, \n",
    "                      chartType='barPlot',\n",
    "                      sortBy = 'geneNum',\n",
    "                      top = 5)\n"
   ]
  },
  {
   "cell_type": "markdown",
   "metadata": {},
   "source": [
    "The concept net helps visualise the overlap between gene sets enriched with specified terms (in this case the top 3 GO terms)"
   ]
  },
  {
   "cell_type": "code",
   "execution_count": null,
   "metadata": {},
   "outputs": [],
   "source": [
    "geneAnswersConceptNet(geneanswer_object, \n",
    "                      colorValueColumn=NULL,\n",
    "                      centroidSize='correctedPvalue', \n",
    "                      output='interactive',\n",
    "                      catTerm = FALSE,\n",
    "                      catID = FALSE,\n",
    "                      showCats = 1:3)\n"
   ]
  }
 ],
 "metadata": {
  "kernelspec": {
   "display_name": "R",
   "language": "R",
   "name": "ir"
  },
  "language_info": {
   "codemirror_mode": "r",
   "file_extension": ".r",
   "mimetype": "text/x-r-source",
   "name": "R",
   "pygments_lexer": "r",
   "version": "3.4.4"
  }
 },
 "nbformat": 4,
 "nbformat_minor": 2
}
